{
 "cells": [
  {
   "cell_type": "markdown",
   "metadata": {},
   "source": [
    "## Image Segmentation アノテーション済みのpngファイル・colormapダウンロード"
   ]
  },
  {
   "cell_type": "code",
   "execution_count": 1,
   "metadata": {},
   "outputs": [],
   "source": [
    "from abeja.datalake import Client as DatalakeClient\n",
    "from abeja.datalake import APIClient\n",
    "\n",
    "import urllib.request\n",
    "import os\n",
    "from tqdm import tqdm\n",
    "import json\n",
    "import re"
   ]
  },
  {
   "cell_type": "markdown",
   "metadata": {},
   "source": [
    "### 設定\n",
    "- OUTPUT_DATALAKE_CHANNEL_ID：annotation済みpngが格納されているDatalake Channel IDを指定してください\n",
    "- ANNOTATION_JSON_NAME：Annotation ToolよりダウンロードしたJSONファイルをNotebookにアップロードしファイル名を指定してください\n",
    "- download_folder_name：pngファイルおよびJSONファイルの格納先フォルダを作成するため、フォルダ名を入力してください"
   ]
  },
  {
   "cell_type": "code",
   "execution_count": 2,
   "metadata": {},
   "outputs": [],
   "source": [
    "OUTPUT_DATALAKE_CHANNEL_ID = 'XXXXXXXXXX'\n",
    "ANNOTATION_JSON_NAME = 'XXXXXXXX.json'\n",
    "api_client = APIClient()\n",
    "download_folder_name = 'XXXXXXXX'"
   ]
  },
  {
   "cell_type": "code",
   "execution_count": 3,
   "metadata": {
    "scrolled": true
   },
   "outputs": [
    {
     "name": "stderr",
     "output_type": "stream",
     "text": [
      "\n"
     ]
    }
   ],
   "source": [
    "datalake_client = DatalakeClient()\n",
    "channel = datalake_client.get_channel(OUTPUT_DATALAKE_CHANNEL_ID)\n",
    "os.mkdir(download_folder_name)\n",
    "\n",
    "#def outputfile():\n",
    "\n",
    "f = open(ANNOTATION_JSON_NAME,'r')\n",
    "json_dict = json.load(f)\n",
    "\n",
    "list_fileid = []\n",
    "list_filename = []\n",
    "list_ano_map = []\n",
    "\n",
    "for x in tqdm(json_dict):\n",
    "    anotation_data = x['information']\n",
    "    origin_data = x['task']['metadata']\n",
    "    \n",
    "    origin_in = [d for d in origin_data if 'information' in d]\n",
    "    origin_str = ','.join(map(str,origin_in))\n",
    "    origin_name_pick = origin_str.split(':', 15)[10]\n",
    "    origin_name = origin_name_pick.split(',', 2)[0]\n",
    "    \n",
    "    origin_id = re.sub(r\"[ ,']\", \"\", origin_name)\n",
    "    \n",
    "    ano_in = [s for s in anotation_data if 'is_combined' in s]\n",
    "    list_str = ','.join(map(str,ano_in))\n",
    "    file_id_pick = list_str.split(':', 2)[1]\n",
    "    file_id_fix = file_id_pick.split(',', 2)[0]\n",
    "    \n",
    "    file_id = re.sub(r\"[ ,']\", \"\", file_id_fix)\n",
    "    \n",
    "    # Annotation済みpngファイルのDownload\n",
    "    download_name = download_folder_name + '/' + origin_id\n",
    "    \n",
    "    file_download_url_map = api_client.get_channel_file_download(OUTPUT_DATALAKE_CHANNEL_ID, file_id)\n",
    "    file_download_url = file_download_url_map['download_url']\n",
    "        \n",
    "    urllib.request.urlretrieve(file_download_url, download_name)\n",
    "    \n",
    "    # Colormap JSONファイルの作成\n",
    "    ano_map = [m for m in anotation_data if 'color' in m]\n",
    "    \n",
    "    ano_map_list_str = ''.join(map(str,ano_map))\n",
    "    \n",
    "    ano_map_color = ano_map_list_str.split(',', 10)\n",
    "    ano_map_label = ano_map_list_str.split(',', 4)[2]\n",
    "    \n",
    "\n",
    "    list_fileid.append(file_id)\n",
    "    list_filename.append(origin_id)\n",
    "    list_ano_map.append(ano_map)\n",
    "    \n",
    "   \n",
    " # Colormap JSONファイルのDownload\n",
    "file_dict = dict(zip(list_filename,list_ano_map))\n",
    "text = json.dumps(file_dict, indent=2)\n",
    "\n",
    "with open(download_folder_name + '/colormap.json', 'w') as f:\n",
    "    json.dump(file_dict, f)\n",
    "\n",
    "    \n",
    "print('Download OK')"
   ]
  }
 ],
 "metadata": {
  "celltoolbar": "Edit Metadata",
  "kernelspec": {
   "display_name": "Python 3",
   "language": "python",
   "name": "python3"
  },
  "language_info": {
   "codemirror_mode": {
    "name": "ipython",
    "version": 3
   },
   "file_extension": ".py",
   "mimetype": "text/x-python",
   "name": "python",
   "nbconvert_exporter": "python",
   "pygments_lexer": "ipython3",
   "version": "3.6.7"
  }
 },
 "nbformat": 4,
 "nbformat_minor": 2
}
