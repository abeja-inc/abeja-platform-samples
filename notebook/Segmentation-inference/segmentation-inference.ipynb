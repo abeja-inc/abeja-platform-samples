{
 "cells": [
  {
   "cell_type": "code",
   "execution_count": 1,
   "metadata": {},
   "outputs": [],
   "source": [
    "import base64\n",
    "import io\n",
    "import requests\n",
    "from urllib.parse import urljoin\n",
    "from tqdm import tqdm\n",
    "import time\n",
    "import yaml\n",
    "from PIL import Image\n",
    "import os\n",
    "import cv2\n",
    "import matplotlib.pyplot as plt\n",
    "\n",
    "from abeja.datalake import Client as DatalakeClient\n",
    "\n",
    "# set deployment_url\n",
    "deployment_url = 'XXXXXXXXXXXXXXX'\n",
    "\n",
    "# get credential information\n",
    "yaml_dict = yaml.load(open('secret.yml').read(), Loader=yaml.SafeLoader)\n",
    "\n",
    "# set credential\n",
    "organization_id = yaml_dict['organization_id']\n",
    "user_id = yaml_dict['user_id']\n",
    "personal_access_token = yaml_dict['personal_access_token']\n",
    "\n",
    "credential = {\n",
    "    'user_id': user_id,\n",
    "    'personal_access_token': personal_access_token\n",
    "}"
   ]
  },
  {
   "cell_type": "code",
   "execution_count": 2,
   "metadata": {},
   "outputs": [
    {
     "name": "stderr",
     "output_type": "stream",
     "text": [
      "100%|██████████| 2/2 [00:00<00:00, 7332.70it/s]\n"
     ]
    }
   ],
   "source": [
    "path = 'Dir'\n",
    "\n",
    "for file in tqdm(os.listdir(path)):\n",
    "    if os.path.isfile(os.path.join(path, file)):\n",
    "        input_img = open(path + \"/\" + file, \"rb\")\n",
    "        # display(input_img)\n",
    "        \n",
    "        res_deployment_url = requests.post(deployment_url,data=input_img,auth=(user_id, personal_access_token))\n",
    "\n",
    "        # print(res_deployment_url)\n",
    "\n",
    "        res_deployment_url.raise_for_status()\n",
    "        labels = res_deployment_url.json()\n",
    "\n",
    "        b64 = res_deployment_url.json()['result']\n",
    "        output_img_io = io.BytesIO(base64.b64decode(b64))\n",
    "\n",
    "        # convert black color to transparency\n",
    "        img = Image.open(output_img_io).convert('RGBA')\n",
    "        pixdata = img.load()\n",
    "\n",
    "        width, height = img.size\n",
    "        for y in range(height):\n",
    "            for x in range(width):\n",
    "                if pixdata[x, y] == (0, 0, 0, 255):\n",
    "                    pixdata[x, y] = (0, 0, 0, 0)\n",
    "\n",
    "        modified_img_io = io.BytesIO()\n",
    "        savefilename = path + \"/result/s_\" + file\n",
    "        img.save(savefilename, format='PNG')\n",
    "    \n",
    "        img1 = cv2.imread(path + \"/\" + file)\n",
    "        img2 = cv2.imread(path + \"/result/s_\" + file)\n",
    "\n",
    "        img1 = cv2.cvtColor(img1, cv2.COLOR_BGR2RGB)\n",
    "        img2 = cv2.cvtColor(img2, cv2.COLOR_BGR2RGB)\n",
    "\n",
    "        img1 =cv2.resize(img1,(800,520))\n",
    "        img2 =cv2.resize(img2,(800,520))\n",
    "    \n",
    "        blended = cv2.addWeighted(src1=img1,alpha=0.7,src2=img2,beta=0.3,gamma=0)\n",
    "        \n",
    "        plt.imshow(blended)\n",
    "        plt.axis('off')\n",
    "        plt.show()"
   ]
  },
  {
   "cell_type": "code",
   "execution_count": null,
   "metadata": {},
   "outputs": [],
   "source": []
  }
 ],
 "metadata": {
  "kernelspec": {
   "display_name": "Python 3",
   "language": "python",
   "name": "python3"
  },
  "language_info": {
   "codemirror_mode": {
    "name": "ipython",
    "version": 3
   },
   "file_extension": ".py",
   "mimetype": "text/x-python",
   "name": "python",
   "nbconvert_exporter": "python",
   "pygments_lexer": "ipython3",
   "version": "3.6.7"
  }
 },
 "nbformat": 4,
 "nbformat_minor": 4
}
